{
  "cells": [
    {
      "cell_type": "code",
      "execution_count": null,
      "id": "6a9ace2a",
      "metadata": {
        "id": "6a9ace2a"
      },
      "outputs": [],
      "source": []
    },
    {
      "cell_type": "markdown",
      "source": [],
      "metadata": {
        "id": "vbpBXWo2Px3t"
      },
      "id": "vbpBXWo2Px3t"
    }
  ],
  "metadata": {
    "language_info": {
      "name": "python"
    },
    "colab": {
      "provenance": []
    },
    "kernelspec": {
      "name": "python3",
      "display_name": "Python 3"
    }
  },
  "nbformat": 4,
  "nbformat_minor": 5
}